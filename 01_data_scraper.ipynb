{
 "cells": [
  {
   "cell_type": "code",
   "execution_count": 2,
   "id": "6738e98e",
   "metadata": {},
   "outputs": [],
   "source": [
    "from icrawler.builtin import GoogleImageCrawler, BingImageCrawler\n",
    "import os"
   ]
  },
  {
   "cell_type": "markdown",
   "id": "22494192",
   "metadata": {},
   "source": [
    "#### Create functions that will scrape images from Google and Bing images"
   ]
  },
  {
   "cell_type": "code",
   "execution_count": 3,
   "id": "6a06074c",
   "metadata": {},
   "outputs": [],
   "source": [
    "def crawl_google_images(keyword: str, output_dir: str, max_num: int = 100):\n",
    "     \"\"\"\n",
    "     Download images from Google using the provided keyword\n",
    "     \n",
    "     Args:\n",
    "          keyword: Search term\n",
    "          output_dir: Directory to save the images\n",
    "          max_num: Maximum number of images to download (default: 100)\n",
    "     \"\"\"\n",
    "     google_crawler = GoogleImageCrawler(\n",
    "          storage={'root_dir': os.path.join(output_dir, 'google', keyword)})\n",
    "     \n",
    "     google_crawler.crawl(keyword=f'{keyword} track layout 2024', max_num=max_num)\n",
    "     print(f\"Downloaded up to {max_num} images for '{keyword}' from Google\")\n",
    "\n",
    "def crawl_bing_images(keyword: str, output_dir: str, max_num: int = 100):\n",
    "     \"\"\"\n",
    "     Download images from Bing using the provided keyword\n",
    "     \n",
    "     Args:\n",
    "          keyword: Search term\n",
    "          output_dir: Directory to save the images\n",
    "          max_num: Maximum number of images to download (default: 100)\n",
    "     \"\"\"\n",
    "     bing_crawler = BingImageCrawler(\n",
    "          storage={'root_dir': os.path.join(output_dir, 'bing', keyword)})\n",
    "     \n",
    "     bing_crawler.crawl(keyword=f'{keyword} track layout 2024', max_num=max_num)\n",
    "     print(f\"Downloaded up to {max_num} images for '{keyword}' from Bing\")"
   ]
  },
  {
   "cell_type": "code",
   "execution_count": 4,
   "id": "22e37096",
   "metadata": {},
   "outputs": [],
   "source": [
    "search_terms = [\n",
    "    \"Bahrain International Circuit\",\n",
    "    \"Jeddah Corniche Circuit\",\n",
    "    \"Albert Park Circuit\",\n",
    "    \"Suzuka International Racing Course\",\n",
    "    \"Shanghai International Circuit\",\n",
    "    \"Miami International Autodrome\",\n",
    "    \"Imola (Autodromo Enzo e Dino Ferrari)\",\n",
    "    \"Circuit de Monaco\",\n",
    "    \"Circuit Gilles Villeneuve\",\n",
    "    \"Circuit de Barcelona-Catalunya\",\n",
    "    \"Red Bull Ring\",\n",
    "    \"Silverstone Circuit\",\n",
    "    \"Hungaroring\",\n",
    "    \"Circuit de Spa-Francorchamps\",\n",
    "    \"Circuit Zandvoort\",\n",
    "    \"Monza (Autodromo Nazionale Monza)\",\n",
    "    \"Baku City Circuit\",\n",
    "    \"Marina Bay Street Circuit\",\n",
    "    \"Circuit of the Americas\",\n",
    "    \"Autódromo Hermanos Rodríguez\",\n",
    "    \"Interlagos (Autódromo José Carlos Pace)\",\n",
    "    \"Las Vegas Street Circuit\",\n",
    "    \"Lusail International Circuit\",\n",
    "    \"Yas Marina Circuit\"\n",
    "]"
   ]
  },
  {
   "cell_type": "code",
   "execution_count": null,
   "id": "2e970fa4",
   "metadata": {},
   "outputs": [
    {
     "ename": "TypeError",
     "evalue": "crawl_google_images() missing 1 required positional argument: 'output_dir'",
     "output_type": "error",
     "traceback": [
      "\u001b[0;31m---------------------------------------------------------------------------\u001b[0m",
      "\u001b[0;31mTypeError\u001b[0m                                 Traceback (most recent call last)",
      "Cell \u001b[0;32mIn[5], line 5\u001b[0m\n\u001b[1;32m      2\u001b[0m os\u001b[38;5;241m.\u001b[39mmakedirs(output_dir, exist_ok\u001b[38;5;241m=\u001b[39m\u001b[38;5;28;01mTrue\u001b[39;00m)\n\u001b[1;32m      4\u001b[0m \u001b[38;5;28;01mfor\u001b[39;00m term \u001b[38;5;129;01min\u001b[39;00m search_terms:\n\u001b[0;32m----> 5\u001b[0m     \u001b[43mcrawl_google_images\u001b[49m\u001b[43m(\u001b[49m\u001b[43mterm\u001b[49m\u001b[43m,\u001b[49m\u001b[43m \u001b[49m\u001b[43mmax_num\u001b[49m\u001b[38;5;241;43m=\u001b[39;49m\u001b[38;5;241;43m30\u001b[39;49m\u001b[43m)\u001b[49m\n\u001b[1;32m      6\u001b[0m     crawl_bing_images(term, max_num\u001b[38;5;241m=\u001b[39m\u001b[38;5;241m30\u001b[39m)\n",
      "\u001b[0;31mTypeError\u001b[0m: crawl_google_images() missing 1 required positional argument: 'output_dir'"
     ]
    }
   ],
   "source": [
    "output_dir = 'data/raw/'\n",
    "os.makedirs(output_dir, exist_ok=True)\n",
    "\n",
    "for term in search_terms:\n",
    "    crawl_google_images(term, output_dir=output_dir, max_num=30)\n",
    "    crawl_bing_images(term, output_dir=output_dir, max_num=30)"
   ]
  }
 ],
 "metadata": {
  "kernelspec": {
   "display_name": "emotion-env",
   "language": "python",
   "name": "python3"
  },
  "language_info": {
   "codemirror_mode": {
    "name": "ipython",
    "version": 3
   },
   "file_extension": ".py",
   "mimetype": "text/x-python",
   "name": "python",
   "nbconvert_exporter": "python",
   "pygments_lexer": "ipython3",
   "version": "3.8.20"
  }
 },
 "nbformat": 4,
 "nbformat_minor": 5
}
