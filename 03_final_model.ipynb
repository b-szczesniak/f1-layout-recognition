{
 "cells": [
  {
   "cell_type": "code",
   "execution_count": 19,
   "id": "41dc7600",
   "metadata": {},
   "outputs": [],
   "source": [
    "import torch\n",
    "import numpy as np\n",
    "from torchvision import datasets, transforms, models\n",
    "from torch.utils.data import DataLoader, Subset, random_split\n",
    "from torch import nn, optim\n",
    "import matplotlib.pyplot as plt\n",
    "from pathlib import Path\n",
    "from typing import List, Tuple, Dict"
   ]
  },
  {
   "cell_type": "markdown",
   "id": "2b6e3650",
   "metadata": {},
   "source": [
    "#### Initial configuration"
   ]
  },
  {
   "cell_type": "code",
   "execution_count": null,
   "id": "9086ab38",
   "metadata": {},
   "outputs": [
    {
     "name": "stdout",
     "output_type": "stream",
     "text": [
      "Using device: mps\n"
     ]
    }
   ],
   "source": [
    "filtered_data_dir = Path('data/filtered_images') \n",
    "batch_size = 32 \n",
    "img_size = 224\n",
    "learning_rate = 0.001\n",
    "num_epochs = 15 \n",
    "model_save_path = 'f1_layout_recognizer_v2.pth'\n",
    "device = torch.device(\"cuda\" if torch.cuda.is_available() else \"mps\" if torch.backends.mps.is_available() else \"cpu\")\n",
    "print(f\"Using device: {device}\")"
   ]
  },
  {
   "cell_type": "markdown",
   "id": "d3fc16c9",
   "metadata": {},
   "source": [
    "#### Setup image transformations"
   ]
  },
  {
   "cell_type": "code",
   "execution_count": 3,
   "id": "363196bb",
   "metadata": {},
   "outputs": [],
   "source": [
    "data_transforms = {\n",
    "        'train': transforms.Compose([\n",
    "            transforms.Resize((img_size, img_size)),\n",
    "            transforms.RandomRotation(10),\n",
    "            transforms.RandomHorizontalFlip(),\n",
    "            transforms.RandomVerticalFlip(),\n",
    "            transforms.ColorJitter(brightness=0.2, contrast=0.2, saturation=0.2, hue=0.1),\n",
    "            transforms.ToTensor(),\n",
    "            transforms.Normalize([0.485, 0.456, 0.406], [0.229, 0.224, 0.225])\n",
    "        ]),\n",
    "        'val': transforms.Compose([\n",
    "            transforms.Resize((img_size, img_size)),\n",
    "            transforms.ToTensor(),\n",
    "            transforms.Normalize([0.485, 0.456, 0.406], [0.229, 0.224, 0.225])\n",
    "        ])\n",
    "    }"
   ]
  },
  {
   "cell_type": "markdown",
   "id": "1361347b",
   "metadata": {},
   "source": [
    "#### Custom dataset class with dataloaders and transformations"
   ]
  },
  {
   "cell_type": "code",
   "execution_count": null,
   "id": "aafcd029",
   "metadata": {},
   "outputs": [],
   "source": [
    "class ImageClassificationDataModule:\n",
    "    \"\"\"\n",
    "    Data module for image classification tasks.\n",
    "    Handles data transforms, train/validation split, and DataLoader creation.\n",
    "    \"\"\"\n",
    "    def __init__(\n",
    "        self,\n",
    "        data_dir: str,\n",
    "        transform: Dict[str, transforms.Compose],\n",
    "        batch_size: int = 32,\n",
    "        val_split: float = 0.2,\n",
    "        image_size: Tuple[int, int] = (224, 224)\n",
    "    ):\n",
    "        self.data_dir = data_dir\n",
    "        self.batch_size = batch_size\n",
    "        self.val_split = val_split\n",
    "        self.image_size = image_size\n",
    "\n",
    "        self.train_transforms = transform['train']\n",
    "        self.val_transforms = transform['val']\n",
    "\n",
    "        self.train_dataset = None\n",
    "        self.val_dataset = None\n",
    "\n",
    "        self.setup()\n",
    "\n",
    "    def setup(self) -> None:\n",
    "        full_dataset = datasets.ImageFolder(root=self.data_dir)\n",
    "        total_samples = len(full_dataset)\n",
    "        val_size = int(total_samples * self.val_split)\n",
    "        train_size = total_samples - val_size\n",
    "\n",
    "        generator = torch.Generator().manual_seed(42)\n",
    "        train_subset, val_subset = random_split(\n",
    "            full_dataset, [train_size, val_size], generator=generator\n",
    "        )\n",
    "\n",
    "        self.train_dataset = Subset(\n",
    "            datasets.ImageFolder(root=self.data_dir, transform=self.train_transforms),\n",
    "            train_subset.indices\n",
    "        )\n",
    "        self.val_dataset = Subset(\n",
    "            datasets.ImageFolder(root=self.data_dir, transform=self.val_transforms),\n",
    "            val_subset.indices\n",
    "        )\n",
    "\n",
    "    def train_dataloader(self) -> DataLoader:\n",
    "        \"\"\"Return DataLoader for training set.\"\"\"\n",
    "        return DataLoader(\n",
    "            dataset=self.train_dataset,\n",
    "            batch_size=self.batch_size,\n",
    "            shuffle=True,\n",
    "        )\n",
    "\n",
    "    def val_dataloader(self) -> DataLoader:\n",
    "        \"\"\"Return DataLoader for validation set.\"\"\"\n",
    "        return DataLoader(\n",
    "            dataset=self.val_dataset,\n",
    "            batch_size=self.batch_size,\n",
    "            shuffle=False,\n",
    "        )"
   ]
  },
  {
   "cell_type": "markdown",
   "id": "72df1e6f",
   "metadata": {},
   "source": [
    "#### Create dataloaders"
   ]
  },
  {
   "cell_type": "code",
   "execution_count": null,
   "id": "3e16cc28",
   "metadata": {},
   "outputs": [
    {
     "name": "stdout",
     "output_type": "stream",
     "text": [
      "Train samples: 879\n",
      "Validation samples: 219\n",
      "Batch shape: torch.Size([32, 3, 224, 224])\n"
     ]
    }
   ],
   "source": [
    "data_module = ImageClassificationDataModule(\n",
    "        data_dir=filtered_data_dir,\n",
    "        transform=data_transforms,\n",
    "        batch_size=batch_size,\n",
    "        val_split=0.2,\n",
    "        image_size=(img_size, img_size)\n",
    "    )\n",
    "train_loader = data_module.train_dataloader()\n",
    "val_loader = data_module.val_dataloader()\n",
    "\n",
    "print(f\"Train samples: {len(data_module.train_dataset)}\")\n",
    "print(f\"Validation samples: {len(data_module.val_dataset)}\")\n",
    "\n",
    "# Iterate through one batch\n",
    "images, labels = next(iter(train_loader))\n",
    "print(f\"Batch shape: {images.shape}\")"
   ]
  },
  {
   "cell_type": "code",
   "execution_count": 10,
   "id": "e160d7dd",
   "metadata": {},
   "outputs": [
    {
     "name": "stdout",
     "output_type": "stream",
     "text": [
      "{'Albert Park Circuit': 0, 'Autódromo Hermanos Rodríguez': 1, 'Bahrain International Circuit': 2, 'Baku City Circuit': 3, 'Circuit Gilles Villeneuve': 4, 'Circuit Zandvoort': 5, 'Circuit de Barcelona-Catalunya': 6, 'Circuit de Monaco': 7, 'Circuit de Spa-Francorchamps': 8, 'Circuit of the Americas': 9, 'Hungaroring': 10, 'Imola (Autodromo Enzo e Dino Ferrari)': 11, 'Interlagos (Autódromo José Carlos Pace)': 12, 'Jeddah Corniche Circuit': 13, 'Las Vegas Street Circuit': 14, 'Lusail International Circuit': 15, 'Marina Bay Street Circuit': 16, 'Miami International Autodrome': 17, 'Monza (Autodromo Nazionale Monza)': 18, 'Red Bull Ring': 19, 'Shanghai International Circuit': 20, 'Silverstone Circuit': 21, 'Suzuka International Racing Course': 22, 'Yas Marina Circuit': 23}\n",
      "{0: 'Albert Park Circuit', 1: 'Autódromo Hermanos Rodríguez', 2: 'Bahrain International Circuit', 3: 'Baku City Circuit', 4: 'Circuit Gilles Villeneuve', 5: 'Circuit Zandvoort', 6: 'Circuit de Barcelona-Catalunya', 7: 'Circuit de Monaco', 8: 'Circuit de Spa-Francorchamps', 9: 'Circuit of the Americas', 10: 'Hungaroring', 11: 'Imola (Autodromo Enzo e Dino Ferrari)', 12: 'Interlagos (Autódromo José Carlos Pace)', 13: 'Jeddah Corniche Circuit', 14: 'Las Vegas Street Circuit', 15: 'Lusail International Circuit', 16: 'Marina Bay Street Circuit', 17: 'Miami International Autodrome', 18: 'Monza (Autodromo Nazionale Monza)', 19: 'Red Bull Ring', 20: 'Shanghai International Circuit', 21: 'Silverstone Circuit', 22: 'Suzuka International Racing Course', 23: 'Yas Marina Circuit'}\n"
     ]
    }
   ],
   "source": [
    "class_to_idx = data_module.train_dataset.dataset.class_to_idx\n",
    "print(class_to_idx)\n",
    "idx_to_class = {v: k for k, v in class_to_idx.items()}\n",
    "print(idx_to_class)"
   ]
  },
  {
   "cell_type": "markdown",
   "id": "e4606235",
   "metadata": {},
   "source": [
    "#### Setup model class"
   ]
  },
  {
   "cell_type": "code",
   "execution_count": 13,
   "id": "590bcbc3",
   "metadata": {},
   "outputs": [],
   "source": [
    "class EfficientNetModel(nn.Module):\n",
    "    def __init__(self, num_classes: int):\n",
    "        super(EfficientNetModel, self).__init__()\n",
    "        self.model = models.efficientnet_b0(pretrained=True)\n",
    "        for param in self.model.parameters():\n",
    "            param.requires_grad = False\n",
    "        for param in self.model.classifier.parameters():\n",
    "            param.requires_grad = True\n",
    "        self.model.classifier = nn.Sequential(\n",
    "            nn.Linear(self.model.classifier[1].in_features, 512),\n",
    "            nn.ReLU(),\n",
    "            nn.Linear(512, num_classes)\n",
    "        )\n",
    "    def forward(self, x):\n",
    "        return self.model(x)\n",
    "    def unfreeze(self):\n",
    "        for param in self.model.parameters():\n",
    "            param.requires_grad = True\n",
    "        for param in self.model.classifier.parameters():\n",
    "            param.requires_grad = True"
   ]
  },
  {
   "cell_type": "code",
   "execution_count": 17,
   "id": "67a65911",
   "metadata": {},
   "outputs": [
    {
     "name": "stderr",
     "output_type": "stream",
     "text": [
      "/opt/anaconda3/envs/emotion-env/lib/python3.8/site-packages/torchvision/models/_utils.py:208: UserWarning: The parameter 'pretrained' is deprecated since 0.13 and may be removed in the future, please use 'weights' instead.\n",
      "  warnings.warn(\n",
      "/opt/anaconda3/envs/emotion-env/lib/python3.8/site-packages/torchvision/models/_utils.py:223: UserWarning: Arguments other than a weight enum or `None` for 'weights' are deprecated since 0.13 and may be removed in the future. The current behavior is equivalent to passing `weights=EfficientNet_B0_Weights.IMAGENET1K_V1`. You can also use `weights=EfficientNet_B0_Weights.DEFAULT` to get the most up-to-date weights.\n",
      "  warnings.warn(msg)\n"
     ]
    }
   ],
   "source": [
    "num_classes = len(class_to_idx)\n",
    "model = EfficientNetModel(num_classes=num_classes).to(device)"
   ]
  },
  {
   "cell_type": "code",
   "execution_count": 12,
   "id": "e59de91f",
   "metadata": {},
   "outputs": [],
   "source": [
    "def plot_loss_and_accuracy(\n",
    "    train_losses: List[float],\n",
    "    val_losses: List[float],\n",
    "    train_accs: List[float],\n",
    "    val_accs: List[float],\n",
    "    num_epochs: int\n",
    ") -> None:\n",
    "    \"\"\"\n",
    "    Plot training and validation loss and accuracy.\n",
    "    \"\"\"\n",
    "    plt.figure(figsize=(12, 5))\n",
    "\n",
    "    plt.subplot(1, 2, 1)\n",
    "    plt.plot(range(num_epochs), train_losses, label='Training Loss')\n",
    "    plt.plot(range(num_epochs), val_losses, label='Validation Loss')\n",
    "    plt.xlabel('Epochs')\n",
    "    plt.ylabel('Loss')\n",
    "    plt.title('Training and Validation Loss')\n",
    "    plt.legend()\n",
    "\n",
    "    plt.subplot(1, 2, 2)\n",
    "    plt.plot(range(num_epochs), train_accs, label='Training Accuracy')\n",
    "    plt.plot(range(num_epochs), val_accs, label='Validation Accuracy')\n",
    "    plt.xlabel('Epochs')\n",
    "    plt.ylabel('Accuracy')\n",
    "    plt.title('Training and Validation Accuracy')\n",
    "    plt.legend()\n",
    "\n",
    "    plt.tight_layout()\n",
    "    plt.show()"
   ]
  },
  {
   "cell_type": "markdown",
   "id": "886e149e",
   "metadata": {},
   "source": [
    "#### Define training function with saving best model state"
   ]
  },
  {
   "cell_type": "code",
   "execution_count": 15,
   "id": "01534365",
   "metadata": {},
   "outputs": [],
   "source": [
    "def train_model(\n",
    "        model: nn.Module, \n",
    "        train_loader: DataLoader, \n",
    "        val_loader: DataLoader, \n",
    "        num_epochs: int=10, \n",
    "        learning_rate: float=0.001, \n",
    "        model_save_path: str=model_save_path\n",
    "        ):\n",
    "    \"\"\"\n",
    "    Train the model using the provided DataLoader.\n",
    "    \"\"\"\n",
    "    criterion = nn.CrossEntropyLoss()\n",
    "    optimizer = optim.Adam(model.parameters(), lr=learning_rate)\n",
    "\n",
    "    train_losses, val_losses = [], []\n",
    "    train_accuracies, val_accuracies = [], []\n",
    "\n",
    "    best_acc = 0.0\n",
    "\n",
    "    for epoch in range(num_epochs):\n",
    "        model.train()\n",
    "        running_loss = 0.0\n",
    "        correct = 0\n",
    "        total = 0\n",
    "\n",
    "        for images, labels in train_loader:\n",
    "            images, labels = images.to(device), labels.to(device)\n",
    "            optimizer.zero_grad()\n",
    "            outputs = model(images)\n",
    "            loss = criterion(outputs, labels)\n",
    "            loss.backward()\n",
    "            optimizer.step()\n",
    "\n",
    "            running_loss += loss.item()\n",
    "            _, predicted = torch.max(outputs.data, 1)\n",
    "            total += labels.size(0)\n",
    "            correct += (predicted == labels).sum().item()\n",
    "\n",
    "        train_loss = running_loss / len(train_loader)\n",
    "        train_accuracy = correct / total\n",
    "        train_losses.append(train_loss)\n",
    "        train_accuracies.append(train_accuracy)\n",
    "\n",
    "        if train_accuracy > best_acc:\n",
    "            best_acc = train_accuracy\n",
    "            torch.save(model.state_dict(), model_save_path)\n",
    "            print(f\"Model saved with accuracy: {best_acc:.4f}\")\n",
    "\n",
    "        # Validation\n",
    "        model.eval()\n",
    "        val_running_loss = 0.0\n",
    "        val_correct = 0\n",
    "        val_total = 0\n",
    "\n",
    "        with torch.no_grad():\n",
    "            for images, labels in val_loader:\n",
    "                images, labels = images.to(device), labels.to(device)\n",
    "                outputs = model(images)\n",
    "                loss = criterion(outputs, labels)\n",
    "\n",
    "                val_running_loss += loss.item()\n",
    "                _, predicted = torch.max(outputs.data, 1)\n",
    "                val_total += labels.size(0)\n",
    "                val_correct += (predicted == labels).sum().item()\n",
    "\n",
    "        val_loss = val_running_loss / len(val_loader)\n",
    "        val_accuracy = val_correct / val_total\n",
    "        val_losses.append(val_loss)\n",
    "        val_accuracies.append(val_accuracy)\n",
    "\n",
    "        print(f\"Epoch [{epoch+1}/{num_epochs}], \"\n",
    "              f\"Train Loss: {train_loss:.4f}, Train Accuracy: {train_accuracy:.4f}, \"\n",
    "              f\"Val Loss: {val_loss:.4f}, Val Accuracy: {val_accuracy:.4f}\")\n",
    "    plot_loss_and_accuracy(train_losses, val_losses, train_accuracies, val_accuracies, num_epochs)"
   ]
  },
  {
   "cell_type": "markdown",
   "id": "15f21ac0",
   "metadata": {},
   "source": [
    "#### Training model"
   ]
  },
  {
   "cell_type": "code",
   "execution_count": 16,
   "id": "43df6a43",
   "metadata": {},
   "outputs": [
    {
     "name": "stderr",
     "output_type": "stream",
     "text": [
      "/opt/anaconda3/envs/emotion-env/lib/python3.8/site-packages/PIL/Image.py:1056: UserWarning: Palette images with Transparency expressed in bytes should be converted to RGBA images\n",
      "  warnings.warn(\n"
     ]
    },
    {
     "name": "stdout",
     "output_type": "stream",
     "text": [
      "Model saved with accuracy: 0.0865\n",
      "Epoch [1/15], Train Loss: 3.1112, Train Accuracy: 0.0865, Val Loss: 2.9281, Val Accuracy: 0.1963\n",
      "Model saved with accuracy: 0.2685\n",
      "Epoch [2/15], Train Loss: 2.6786, Train Accuracy: 0.2685, Val Loss: 2.5244, Val Accuracy: 0.3425\n",
      "Model saved with accuracy: 0.4096\n",
      "Epoch [3/15], Train Loss: 2.2088, Train Accuracy: 0.4096, Val Loss: 2.2946, Val Accuracy: 0.3562\n",
      "Model saved with accuracy: 0.4949\n",
      "Epoch [4/15], Train Loss: 1.8699, Train Accuracy: 0.4949, Val Loss: 2.0362, Val Accuracy: 0.4475\n",
      "Model saved with accuracy: 0.5688\n",
      "Epoch [5/15], Train Loss: 1.6290, Train Accuracy: 0.5688, Val Loss: 1.9274, Val Accuracy: 0.4475\n",
      "Model saved with accuracy: 0.5757\n",
      "Epoch [6/15], Train Loss: 1.4774, Train Accuracy: 0.5757, Val Loss: 1.8992, Val Accuracy: 0.4886\n",
      "Model saved with accuracy: 0.6041\n",
      "Epoch [7/15], Train Loss: 1.3941, Train Accuracy: 0.6041, Val Loss: 1.8748, Val Accuracy: 0.4749\n",
      "Model saved with accuracy: 0.6587\n",
      "Epoch [8/15], Train Loss: 1.2562, Train Accuracy: 0.6587, Val Loss: 1.7790, Val Accuracy: 0.4977\n",
      "Model saved with accuracy: 0.6803\n",
      "Epoch [9/15], Train Loss: 1.1453, Train Accuracy: 0.6803, Val Loss: 1.8128, Val Accuracy: 0.4932\n",
      "Model saved with accuracy: 0.6962\n",
      "Epoch [10/15], Train Loss: 1.0754, Train Accuracy: 0.6962, Val Loss: 1.8623, Val Accuracy: 0.4977\n",
      "Model saved with accuracy: 0.7167\n",
      "Epoch [11/15], Train Loss: 1.0113, Train Accuracy: 0.7167, Val Loss: 1.7981, Val Accuracy: 0.4977\n",
      "Model saved with accuracy: 0.7213\n",
      "Epoch [12/15], Train Loss: 0.9388, Train Accuracy: 0.7213, Val Loss: 1.7662, Val Accuracy: 0.4977\n",
      "Model saved with accuracy: 0.7474\n",
      "Epoch [13/15], Train Loss: 0.8871, Train Accuracy: 0.7474, Val Loss: 1.7630, Val Accuracy: 0.4977\n",
      "Model saved with accuracy: 0.7907\n",
      "Epoch [14/15], Train Loss: 0.7925, Train Accuracy: 0.7907, Val Loss: 1.8802, Val Accuracy: 0.4703\n",
      "Epoch [15/15], Train Loss: 0.8215, Train Accuracy: 0.7679, Val Loss: 1.8097, Val Accuracy: 0.5023\n"
     ]
    },
    {
     "data": {
      "image/png": "[encoded data removed]",
      "text/plain": [
       "<Figure size 1200x500 with 2 Axes>"
      ]
     },
     "metadata": {},
     "output_type": "display_data"
    }
   ],
   "source": [
    "train_model(\n",
    "    model=model,\n",
    "    train_loader=train_loader,\n",
    "    val_loader=val_loader,\n",
    "    num_epochs=num_epochs,\n",
    "    learning_rate=learning_rate,\n",
    "    model_save_path=model_save_path\n",
    ")"
   ]
  },
  {
   "cell_type": "markdown",
   "id": "ff937dbe",
   "metadata": {},
   "source": [
    "##### Summary\n",
    "Validation accuracy is very low but it might be because of messy data and unlucky split between train and val data. This will be further tested."
   ]
  }
 ],
 "metadata": {
  "kernelspec": {
   "display_name": "emotion-env",
   "language": "python",
   "name": "python3"
  },
  "language_info": {
   "codemirror_mode": {
    "name": "ipython",
    "version": 3
   },
   "file_extension": ".py",
   "mimetype": "text/x-python",
   "name": "python",
   "nbconvert_exporter": "python",
   "pygments_lexer": "ipython3",
   "version": "3.8.20"
  }
 },
 "nbformat": 4,
 "nbformat_minor": 5
}
